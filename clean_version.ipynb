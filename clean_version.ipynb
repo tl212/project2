{
 "cells": [
  {
   "cell_type": "code",
   "execution_count": 1,
   "metadata": {},
   "outputs": [],
   "source": [
    "import time\n",
    "import json\n",
    "import re\n",
    "import os \n",
    "import tensorflow as tf\n",
    "import pandas as pd\n",
    "import numpy as np\n",
    "from itertools import compress\n",
    "import matplotlib.pyplot as plt\n"
   ]
  },
  {
   "cell_type": "code",
   "execution_count": 2,
   "metadata": {},
   "outputs": [],
   "source": [
    "def json_to_csv(directory, fileNames, createSample=False):\n",
    "    \"\"\"\n",
    "    json_to_csv: loops through specified JSON files and converts them to csv files.\n",
    "                 option to also create a sample csv, which uses np.random.seed 9001 to create a sample dataset with 10% of the observations\n",
    "    \n",
    "                 pandas has a read_json function, but returns a 'Trailing data error' when working with these specific files\n",
    "                 \n",
    "                 \n",
    "    Inputs: -directory of JSON files\n",
    "            -list of JSON filenames\n",
    "            -createSample flag\n",
    "            \n",
    "    \"\"\"\n",
    "    \n",
    "    start = time.time()\n",
    "\n",
    "    jsonData = []\n",
    "\n",
    "    for fileName in fileNames:\n",
    "        with open(directory + fileName,  encoding=\"utf8\") as file:\n",
    "            print('{0} opened'.format(fileName))\n",
    "            for line in file:\n",
    "                #I use an rstrip here because some of the files have trailing blank spaces\n",
    "                jsonData.append(json.loads(line.rstrip()))\n",
    "        \n",
    "        df = pd.DataFrame.from_dict(jsonData)\n",
    "        \n",
    "        csvFileName = fileName[:len(fileName)-5] + '.csv'\n",
    "        \n",
    "        df.to_csv(directory + csvFileName)\n",
    "        print('{0} created'.format(csvFileName))\n",
    "        \n",
    "        \n",
    "        if createSample:\n",
    "            np.random.seed(9001)\n",
    "            msk = np.random.rand(len(df)) <= 0.1\n",
    "            sample = df[msk]\n",
    "            \n",
    "            csvSampleFileName = fileName[:len(fileName)-5] + '_sample.csv'\n",
    "            \n",
    "            sample.to_csv(directory + csvSampleFileName)\n",
    "            print('{0} created'.format(csvSampleFileName))\n",
    "        \n",
    "    print('This function took {} minutes to run'.format((time.time()-start)/60))\n",
    "    "
   ]
  },
  {
   "cell_type": "code",
   "execution_count": null,
   "metadata": {},
   "outputs": [],
   "source": [
    "df_business = pd.read_csv('data/business.csv')\n",
    "\n",
    "#df_business.dropna(inplace=True, subset = ['categories'], axis=0)\n",
    "\n",
    "# df_business.loc[df_business['categories'].str.contains('Restaurants')]\n",
    "\n",
    "# df_business['categories'].value_counts()"
   ]
  },
  {
   "cell_type": "code",
   "execution_count": null,
   "metadata": {},
   "outputs": [],
   "source": [
    "df_business.head()"
   ]
  },
  {
   "cell_type": "code",
   "execution_count": 342,
   "metadata": {},
   "outputs": [],
   "source": [
    "#df_user = pd.read_csv('data/user.csv', nrows = 100)\n",
    "\n",
    "# df_review =  pd.read_csv('data/review.csv', usecols = ['business_id', 'user_id', 'stars'])\n",
    "# user_cnts = df_review['user_id'].value_counts()\n",
    "# top_users = user_cnts.loc[user_cnts>2].index\n",
    "# df_review = df_review.loc[df_review['user_id'].isin(top_users)]\n",
    "# df_review.to_csv('data/filtered_reviews.csv')"
   ]
  },
  {
   "cell_type": "code",
   "execution_count": 20,
   "metadata": {},
   "outputs": [],
   "source": [
    "# reading filterdreview \n",
    "\n",
    "df_review = pd.read_csv('data/filtered_reviews.csv', index_col=0)"
   ]
  },
  {
   "cell_type": "code",
   "execution_count": 21,
   "metadata": {},
   "outputs": [],
   "source": [
    "# inumerating business_in and user_id with bid and uid \n",
    "def build_fmap_invmap(ser):\n",
    "    uni_ele = ser.unique()\n",
    "    fmap = {v:i for i, v in enumerate(uni_ele)}\n",
    "    invmap = {i:v for i, v in enumerate(uni_ele)}\n",
    "    return fmap, invmap"
   ]
  },
  {
   "cell_type": "code",
   "execution_count": 22,
   "metadata": {},
   "outputs": [],
   "source": [
    "# debuging enviroment on (dbg =1) to turn off (dbg = 0)\n",
    "dbg = 1\n",
    "if dbg:\n",
    "    df_review = df_review.head(100000)"
   ]
  },
  {
   "cell_type": "code",
   "execution_count": 23,
   "metadata": {},
   "outputs": [],
   "source": [
    "bus_fmap, bus_invmap = build_fmap_invmap(df_review['business_id'])\n",
    "u_fmap, u_invmap = build_fmap_invmap(df_review['user_id'])"
   ]
  },
  {
   "cell_type": "code",
   "execution_count": 24,
   "metadata": {},
   "outputs": [],
   "source": [
    "df_review['bid'] = df_review['business_id'].map(bus_fmap)"
   ]
  },
  {
   "cell_type": "code",
   "execution_count": 25,
   "metadata": {},
   "outputs": [],
   "source": [
    "df_review['uid'] = df_review['user_id'].map(u_fmap)"
   ]
  },
  {
   "cell_type": "code",
   "execution_count": 53,
   "metadata": {},
   "outputs": [
    {
     "data": {
      "text/html": [
       "<div>\n",
       "<style scoped>\n",
       "    .dataframe tbody tr th:only-of-type {\n",
       "        vertical-align: middle;\n",
       "    }\n",
       "\n",
       "    .dataframe tbody tr th {\n",
       "        vertical-align: top;\n",
       "    }\n",
       "\n",
       "    .dataframe thead th {\n",
       "        text-align: right;\n",
       "    }\n",
       "</style>\n",
       "<table border=\"1\" class=\"dataframe\">\n",
       "  <thead>\n",
       "    <tr style=\"text-align: right;\">\n",
       "      <th></th>\n",
       "      <th>business_id</th>\n",
       "      <th>stars</th>\n",
       "      <th>user_id</th>\n",
       "      <th>bid</th>\n",
       "      <th>uid</th>\n",
       "    </tr>\n",
       "  </thead>\n",
       "  <tbody>\n",
       "    <tr>\n",
       "      <th>0</th>\n",
       "      <td>ujmEBvifdJM6h6RLv4wQIg</td>\n",
       "      <td>1.0</td>\n",
       "      <td>hG7b0MtEbXx5QzbzE6C_VA</td>\n",
       "      <td>0</td>\n",
       "      <td>0</td>\n",
       "    </tr>\n",
       "    <tr>\n",
       "      <th>2</th>\n",
       "      <td>WTqjgwHlXbSFevF32_DJVw</td>\n",
       "      <td>5.0</td>\n",
       "      <td>n6-Gk65cPZL6Uz8qRm3NYw</td>\n",
       "      <td>1</td>\n",
       "      <td>1</td>\n",
       "    </tr>\n",
       "    <tr>\n",
       "      <th>3</th>\n",
       "      <td>ikCg8xy5JIg_NGPx-MSIDA</td>\n",
       "      <td>5.0</td>\n",
       "      <td>dacAIZ6fTM6mqwW5uxkskg</td>\n",
       "      <td>2</td>\n",
       "      <td>2</td>\n",
       "    </tr>\n",
       "    <tr>\n",
       "      <th>6</th>\n",
       "      <td>3fw2X5bZYeW9xCz_zGhOHg</td>\n",
       "      <td>3.0</td>\n",
       "      <td>jlu4CztcSxrKx56ba1a5AQ</td>\n",
       "      <td>3</td>\n",
       "      <td>3</td>\n",
       "    </tr>\n",
       "    <tr>\n",
       "      <th>7</th>\n",
       "      <td>zvO-PJCpNk4fgAVUnExYAA</td>\n",
       "      <td>1.0</td>\n",
       "      <td>d6xvYpyzcfbF_AZ8vMB7QA</td>\n",
       "      <td>4</td>\n",
       "      <td>4</td>\n",
       "    </tr>\n",
       "  </tbody>\n",
       "</table>\n",
       "</div>"
      ],
      "text/plain": [
       "              business_id  stars                 user_id  bid  uid\n",
       "0  ujmEBvifdJM6h6RLv4wQIg    1.0  hG7b0MtEbXx5QzbzE6C_VA    0    0\n",
       "2  WTqjgwHlXbSFevF32_DJVw    5.0  n6-Gk65cPZL6Uz8qRm3NYw    1    1\n",
       "3  ikCg8xy5JIg_NGPx-MSIDA    5.0  dacAIZ6fTM6mqwW5uxkskg    2    2\n",
       "6  3fw2X5bZYeW9xCz_zGhOHg    3.0  jlu4CztcSxrKx56ba1a5AQ    3    3\n",
       "7  zvO-PJCpNk4fgAVUnExYAA    1.0  d6xvYpyzcfbF_AZ8vMB7QA    4    4"
      ]
     },
     "execution_count": 53,
     "metadata": {},
     "output_type": "execute_result"
    }
   ],
   "source": [
    "df_review.head()"
   ]
  },
  {
   "cell_type": "code",
   "execution_count": 28,
   "metadata": {},
   "outputs": [],
   "source": [
    "n_users, n_bus = df_review['uid'].nunique(), df_review['bid'].nunique()"
   ]
  },
  {
   "cell_type": "code",
   "execution_count": 29,
   "metadata": {},
   "outputs": [],
   "source": [
    "n_dim = 5"
   ]
  },
  {
   "cell_type": "code",
   "execution_count": 30,
   "metadata": {},
   "outputs": [
    {
     "name": "stdout",
     "output_type": "stream",
     "text": [
      "WARNING:tensorflow:From /Users/thomaslee/anaconda3/lib/python3.6/site-packages/tensorflow/python/framework/op_def_library.py:263: colocate_with (from tensorflow.python.framework.ops) is deprecated and will be removed in a future version.\n",
      "Instructions for updating:\n",
      "Colocations handled automatically by placer.\n"
     ]
    }
   ],
   "source": [
    "user_vector_raw = tf.Variable(tf.random_uniform([n_users, n_dim], minval = -1., maxval = 1.))\n",
    "bus_vector_raw = tf.Variable(tf.random_uniform([n_bus, n_dim], minval = -1., maxval = 1.))\n",
    "\n",
    "user_vector = tf.tanh(user_vector_raw)\n",
    "bus_vector = tf.tanh(bus_vector_raw)\n",
    "\n",
    "users = tf.placeholder(tf.int32, shape=(None))\n",
    "businesses = tf.placeholder(tf.int32, shape=(None))\n",
    "ratings = tf.placeholder(tf.float32, shape=(None))\n",
    "\n",
    "UserSampled = tf.nn.embedding_lookup(user_vector, users)\n",
    "BusinessSampled = tf.nn.embedding_lookup(bus_vector, businesses)\n",
    "UserSampled.set_shape([None, n_dim])\n",
    "BusinessSampled.set_shape([None, n_dim])\n",
    "\n",
    "# input tensors for products, users, ratings"
   ]
  },
  {
   "cell_type": "code",
   "execution_count": 31,
   "metadata": {},
   "outputs": [],
   "source": [
    "estimatedaffinitiesraw = tf.reduce_sum(UserSampled * BusinessSampled, 1)\n",
    "estimatedaffinities = tf.sigmoid(estimatedaffinitiesraw)*5"
   ]
  },
  {
   "cell_type": "code",
   "execution_count": 32,
   "metadata": {},
   "outputs": [
    {
     "name": "stdout",
     "output_type": "stream",
     "text": [
      "WARNING:tensorflow:From /Users/thomaslee/anaconda3/lib/python3.6/site-packages/tensorflow/python/ops/math_ops.py:3066: to_int32 (from tensorflow.python.ops.math_ops) is deprecated and will be removed in a future version.\n",
      "Instructions for updating:\n",
      "Use tf.cast instead.\n"
     ]
    }
   ],
   "source": [
    "loss = tf.reduce_sum(tf.square(estimatedaffinities - ratings))\n",
    "opt = tf.train.RMSPropOptimizer(learning_rate=.1).minimize(loss)"
   ]
  },
  {
   "cell_type": "code",
   "execution_count": 33,
   "metadata": {},
   "outputs": [],
   "source": [
    "sess = tf.Session()\n"
   ]
  },
  {
   "cell_type": "code",
   "execution_count": 34,
   "metadata": {},
   "outputs": [],
   "source": [
    "rows = np.random.choice(df_review.shape[0], 64)"
   ]
  },
  {
   "cell_type": "code",
   "execution_count": 35,
   "metadata": {},
   "outputs": [],
   "source": [
    "sess.run(tf.global_variables_initializer())"
   ]
  },
  {
   "cell_type": "code",
   "execution_count": 54,
   "metadata": {},
   "outputs": [
    {
     "name": "stdout",
     "output_type": "stream",
     "text": [
      "51.51345\n",
      "109.24071\n",
      "30.983854\n",
      "40.328747\n",
      "38.272476\n",
      "14.681086\n",
      "25.052807\n",
      "17.334026\n",
      "29.805984\n",
      "43.593056\n"
     ]
    }
   ],
   "source": [
    "for i in range(10000):\n",
    "    rows = np.random.choice(df_review.shape[0], 64)\n",
    "    dfrows = df_review.iloc[rows]\n",
    "    fd = {users:dfrows['uid'].values,\n",
    "         businesses:dfrows['bid'].values,\n",
    "         ratings:dfrows['stars'].values}\n",
    "    _, l2loss = sess.run([opt, loss], fd)\n",
    "    if i % 1000 == 0:\n",
    "        print(l2loss)"
   ]
  },
  {
   "cell_type": "code",
   "execution_count": 37,
   "metadata": {},
   "outputs": [],
   "source": [
    "user_values, bus_values = sess.run([user_vector, bus_vector])"
   ]
  },
  {
   "cell_type": "code",
   "execution_count": 57,
   "metadata": {},
   "outputs": [],
   "source": [
    "bus_vec_df = pd.DataFrame(data = bus_values, index = [bus_invmap[i] for i in range(n_bus)])"
   ]
  },
  {
   "cell_type": "code",
   "execution_count": 58,
   "metadata": {},
   "outputs": [
    {
     "data": {
      "text/html": [
       "<div>\n",
       "<style scoped>\n",
       "    .dataframe tbody tr th:only-of-type {\n",
       "        vertical-align: middle;\n",
       "    }\n",
       "\n",
       "    .dataframe tbody tr th {\n",
       "        vertical-align: top;\n",
       "    }\n",
       "\n",
       "    .dataframe thead th {\n",
       "        text-align: right;\n",
       "    }\n",
       "</style>\n",
       "<table border=\"1\" class=\"dataframe\">\n",
       "  <thead>\n",
       "    <tr style=\"text-align: right;\">\n",
       "      <th></th>\n",
       "      <th>0</th>\n",
       "      <th>1</th>\n",
       "      <th>2</th>\n",
       "      <th>3</th>\n",
       "      <th>4</th>\n",
       "    </tr>\n",
       "  </thead>\n",
       "  <tbody>\n",
       "    <tr>\n",
       "      <th>ujmEBvifdJM6h6RLv4wQIg</th>\n",
       "      <td>0.245716</td>\n",
       "      <td>-0.999963</td>\n",
       "      <td>0.958518</td>\n",
       "      <td>-0.996415</td>\n",
       "      <td>-0.004232</td>\n",
       "    </tr>\n",
       "    <tr>\n",
       "      <th>WTqjgwHlXbSFevF32_DJVw</th>\n",
       "      <td>0.637304</td>\n",
       "      <td>-0.794876</td>\n",
       "      <td>-0.613295</td>\n",
       "      <td>-0.997671</td>\n",
       "      <td>0.675887</td>\n",
       "    </tr>\n",
       "    <tr>\n",
       "      <th>ikCg8xy5JIg_NGPx-MSIDA</th>\n",
       "      <td>0.902912</td>\n",
       "      <td>0.856310</td>\n",
       "      <td>-0.948628</td>\n",
       "      <td>-0.111182</td>\n",
       "      <td>-0.746762</td>\n",
       "    </tr>\n",
       "    <tr>\n",
       "      <th>3fw2X5bZYeW9xCz_zGhOHg</th>\n",
       "      <td>-0.734276</td>\n",
       "      <td>-0.999902</td>\n",
       "      <td>0.797500</td>\n",
       "      <td>0.541766</td>\n",
       "      <td>0.030535</td>\n",
       "    </tr>\n",
       "    <tr>\n",
       "      <th>zvO-PJCpNk4fgAVUnExYAA</th>\n",
       "      <td>-0.223762</td>\n",
       "      <td>-0.782820</td>\n",
       "      <td>-0.118088</td>\n",
       "      <td>0.958683</td>\n",
       "      <td>-0.634694</td>\n",
       "    </tr>\n",
       "    <tr>\n",
       "      <th>b2jN2mm9Wf3RcrZCgfo1cg</th>\n",
       "      <td>-0.911307</td>\n",
       "      <td>-0.496665</td>\n",
       "      <td>0.940446</td>\n",
       "      <td>-0.999844</td>\n",
       "      <td>0.997965</td>\n",
       "    </tr>\n",
       "    <tr>\n",
       "      <th>oxwGyA17NL6c5t1Etg5WgQ</th>\n",
       "      <td>-0.956273</td>\n",
       "      <td>-0.793331</td>\n",
       "      <td>0.168674</td>\n",
       "      <td>0.815644</td>\n",
       "      <td>-0.995229</td>\n",
       "    </tr>\n",
       "    <tr>\n",
       "      <th>8mIrX_LrOnAqWsB5JrOojQ</th>\n",
       "      <td>-1.000000</td>\n",
       "      <td>1.000000</td>\n",
       "      <td>-0.694195</td>\n",
       "      <td>-0.999999</td>\n",
       "      <td>0.999981</td>\n",
       "    </tr>\n",
       "    <tr>\n",
       "      <th>FxLfqxdYPA6Z85PFKaqLrg</th>\n",
       "      <td>0.194422</td>\n",
       "      <td>0.627261</td>\n",
       "      <td>-0.602485</td>\n",
       "      <td>0.552737</td>\n",
       "      <td>0.970568</td>\n",
       "    </tr>\n",
       "    <tr>\n",
       "      <th>AakkkTuGZA2KBodKi2_u8A</th>\n",
       "      <td>-0.366006</td>\n",
       "      <td>-0.511513</td>\n",
       "      <td>0.989328</td>\n",
       "      <td>0.999454</td>\n",
       "      <td>-0.254088</td>\n",
       "    </tr>\n",
       "    <tr>\n",
       "      <th>YvrylyuWgbP90RgMqZQVnQ</th>\n",
       "      <td>-0.452206</td>\n",
       "      <td>-0.952003</td>\n",
       "      <td>-0.966037</td>\n",
       "      <td>-0.999862</td>\n",
       "      <td>0.328256</td>\n",
       "    </tr>\n",
       "    <tr>\n",
       "      <th>NyLYY8q1-H3hfsTwuwLPCg</th>\n",
       "      <td>0.999999</td>\n",
       "      <td>0.987281</td>\n",
       "      <td>-0.999993</td>\n",
       "      <td>-0.999991</td>\n",
       "      <td>-0.999933</td>\n",
       "    </tr>\n",
       "    <tr>\n",
       "      <th>cHdJXLlKNWixBXpDwEGb_A</th>\n",
       "      <td>-0.999919</td>\n",
       "      <td>-0.999998</td>\n",
       "      <td>-0.501293</td>\n",
       "      <td>-0.217334</td>\n",
       "      <td>0.957553</td>\n",
       "    </tr>\n",
       "    <tr>\n",
       "      <th>6lj2BJ4tJeu7db5asGHQ4w</th>\n",
       "      <td>0.999959</td>\n",
       "      <td>0.949334</td>\n",
       "      <td>0.870466</td>\n",
       "      <td>-0.999563</td>\n",
       "      <td>0.889889</td>\n",
       "    </tr>\n",
       "    <tr>\n",
       "      <th>y-Iw6dZflNix4BdwIyTNGA</th>\n",
       "      <td>0.993158</td>\n",
       "      <td>0.286854</td>\n",
       "      <td>-0.999366</td>\n",
       "      <td>0.999987</td>\n",
       "      <td>-0.966192</td>\n",
       "    </tr>\n",
       "    <tr>\n",
       "      <th>qx6WhZ42eDKmBchZDax4dQ</th>\n",
       "      <td>-0.999997</td>\n",
       "      <td>0.999999</td>\n",
       "      <td>0.999998</td>\n",
       "      <td>-0.999992</td>\n",
       "      <td>0.999999</td>\n",
       "    </tr>\n",
       "    <tr>\n",
       "      <th>Mem13A3C202RzT53npn4NA</th>\n",
       "      <td>-0.999703</td>\n",
       "      <td>-0.999971</td>\n",
       "      <td>0.994528</td>\n",
       "      <td>0.999461</td>\n",
       "      <td>0.999998</td>\n",
       "    </tr>\n",
       "    <tr>\n",
       "      <th>I4Nr-MVc26qWr08-S3Q1ow</th>\n",
       "      <td>0.733666</td>\n",
       "      <td>-0.986745</td>\n",
       "      <td>0.449270</td>\n",
       "      <td>-0.999997</td>\n",
       "      <td>-0.998365</td>\n",
       "    </tr>\n",
       "    <tr>\n",
       "      <th>Sfc8Haz2Yri8Mo1L0E0TsA</th>\n",
       "      <td>-0.486209</td>\n",
       "      <td>0.334513</td>\n",
       "      <td>0.988931</td>\n",
       "      <td>-0.614635</td>\n",
       "      <td>-0.130899</td>\n",
       "    </tr>\n",
       "    <tr>\n",
       "      <th>FQ1wBQb3aNeRMThSQEV0Qg</th>\n",
       "      <td>0.999907</td>\n",
       "      <td>0.637268</td>\n",
       "      <td>0.980527</td>\n",
       "      <td>0.994552</td>\n",
       "      <td>0.998992</td>\n",
       "    </tr>\n",
       "    <tr>\n",
       "      <th>hd5xm20tfSa70-6UqD9-bg</th>\n",
       "      <td>0.999980</td>\n",
       "      <td>-0.996084</td>\n",
       "      <td>0.999993</td>\n",
       "      <td>-0.664816</td>\n",
       "      <td>0.999997</td>\n",
       "    </tr>\n",
       "    <tr>\n",
       "      <th>9nTF596jDvBBia2EXXiOOg</th>\n",
       "      <td>-0.307216</td>\n",
       "      <td>0.839162</td>\n",
       "      <td>-0.559042</td>\n",
       "      <td>0.347400</td>\n",
       "      <td>-0.325854</td>\n",
       "    </tr>\n",
       "    <tr>\n",
       "      <th>dm6sO_Y8JdKTE1ZM955yug</th>\n",
       "      <td>0.995398</td>\n",
       "      <td>0.999998</td>\n",
       "      <td>0.957606</td>\n",
       "      <td>0.999999</td>\n",
       "      <td>0.999999</td>\n",
       "    </tr>\n",
       "    <tr>\n",
       "      <th>XTzKRvWciP_BZ9imk8mmPQ</th>\n",
       "      <td>-0.999997</td>\n",
       "      <td>-0.997087</td>\n",
       "      <td>-0.999946</td>\n",
       "      <td>-0.999148</td>\n",
       "      <td>-0.999996</td>\n",
       "    </tr>\n",
       "    <tr>\n",
       "      <th>CDpoJiqgM04wqQTZ6QkTqQ</th>\n",
       "      <td>0.999995</td>\n",
       "      <td>-0.999327</td>\n",
       "      <td>-0.995313</td>\n",
       "      <td>0.992953</td>\n",
       "      <td>0.998890</td>\n",
       "    </tr>\n",
       "    <tr>\n",
       "      <th>3JxKzWquEbPC3yPIfoCiLw</th>\n",
       "      <td>-0.012733</td>\n",
       "      <td>-0.978604</td>\n",
       "      <td>-0.868235</td>\n",
       "      <td>-0.961351</td>\n",
       "      <td>0.999922</td>\n",
       "    </tr>\n",
       "    <tr>\n",
       "      <th>YSUcHqlKMPHHJ_cTrqtNrA</th>\n",
       "      <td>0.117742</td>\n",
       "      <td>-0.844622</td>\n",
       "      <td>0.639710</td>\n",
       "      <td>-0.054669</td>\n",
       "      <td>-0.884881</td>\n",
       "    </tr>\n",
       "    <tr>\n",
       "      <th>N0apJkxIem2E8irTBRKnHw</th>\n",
       "      <td>0.344658</td>\n",
       "      <td>0.942647</td>\n",
       "      <td>-0.999814</td>\n",
       "      <td>0.794865</td>\n",
       "      <td>0.999998</td>\n",
       "    </tr>\n",
       "    <tr>\n",
       "      <th>sMzNLdhJZGzYirIWt-fMAg</th>\n",
       "      <td>-0.166723</td>\n",
       "      <td>-1.000000</td>\n",
       "      <td>0.481082</td>\n",
       "      <td>-0.981536</td>\n",
       "      <td>0.997021</td>\n",
       "    </tr>\n",
       "    <tr>\n",
       "      <th>IMLrj2klosTFvPRLv56cng</th>\n",
       "      <td>-0.998247</td>\n",
       "      <td>0.531739</td>\n",
       "      <td>-0.999357</td>\n",
       "      <td>-0.999999</td>\n",
       "      <td>-0.709312</td>\n",
       "    </tr>\n",
       "    <tr>\n",
       "      <th>...</th>\n",
       "      <td>...</td>\n",
       "      <td>...</td>\n",
       "      <td>...</td>\n",
       "      <td>...</td>\n",
       "      <td>...</td>\n",
       "    </tr>\n",
       "    <tr>\n",
       "      <th>_WsGlZnbXBdPcs0qM2Qm7w</th>\n",
       "      <td>-0.647736</td>\n",
       "      <td>0.059701</td>\n",
       "      <td>0.591658</td>\n",
       "      <td>-0.399647</td>\n",
       "      <td>0.535942</td>\n",
       "    </tr>\n",
       "    <tr>\n",
       "      <th>MGo5TXadUjDaPi5LYHArhA</th>\n",
       "      <td>0.447461</td>\n",
       "      <td>0.017320</td>\n",
       "      <td>-0.356627</td>\n",
       "      <td>0.642426</td>\n",
       "      <td>-0.246191</td>\n",
       "    </tr>\n",
       "    <tr>\n",
       "      <th>um0brvgJQ_k0bfYQ4S6FpA</th>\n",
       "      <td>-0.411288</td>\n",
       "      <td>-0.667122</td>\n",
       "      <td>-0.293027</td>\n",
       "      <td>-0.583814</td>\n",
       "      <td>-0.329604</td>\n",
       "    </tr>\n",
       "    <tr>\n",
       "      <th>hJda5g5v_2rT3D-3mSf7cQ</th>\n",
       "      <td>0.546994</td>\n",
       "      <td>0.676979</td>\n",
       "      <td>-0.129855</td>\n",
       "      <td>0.415563</td>\n",
       "      <td>-0.731594</td>\n",
       "    </tr>\n",
       "    <tr>\n",
       "      <th>0-7jRk54XXZgND3F3bo8sw</th>\n",
       "      <td>0.020070</td>\n",
       "      <td>-0.368546</td>\n",
       "      <td>0.807728</td>\n",
       "      <td>-0.909414</td>\n",
       "      <td>0.813717</td>\n",
       "    </tr>\n",
       "    <tr>\n",
       "      <th>aIVCYE8frb2ELMQkvqykrw</th>\n",
       "      <td>-0.833103</td>\n",
       "      <td>-0.002163</td>\n",
       "      <td>-0.974301</td>\n",
       "      <td>0.983104</td>\n",
       "      <td>-0.939913</td>\n",
       "    </tr>\n",
       "    <tr>\n",
       "      <th>lbYQ5INAEa1yCjS3XUFN_A</th>\n",
       "      <td>0.919527</td>\n",
       "      <td>-0.322540</td>\n",
       "      <td>0.302122</td>\n",
       "      <td>-0.175771</td>\n",
       "      <td>-0.653477</td>\n",
       "    </tr>\n",
       "    <tr>\n",
       "      <th>m3Tatgcyw8dUzts0wqpKMg</th>\n",
       "      <td>0.916441</td>\n",
       "      <td>-0.749790</td>\n",
       "      <td>-0.796657</td>\n",
       "      <td>-0.828571</td>\n",
       "      <td>0.755772</td>\n",
       "    </tr>\n",
       "    <tr>\n",
       "      <th>n2kOsDur7tCLygSa87glJQ</th>\n",
       "      <td>-0.051245</td>\n",
       "      <td>-0.429031</td>\n",
       "      <td>0.499620</td>\n",
       "      <td>0.826297</td>\n",
       "      <td>-0.701775</td>\n",
       "    </tr>\n",
       "    <tr>\n",
       "      <th>aiSFOdB2rMeA5cdwwmAGtA</th>\n",
       "      <td>-0.268925</td>\n",
       "      <td>0.447146</td>\n",
       "      <td>0.198781</td>\n",
       "      <td>-0.282231</td>\n",
       "      <td>0.149683</td>\n",
       "    </tr>\n",
       "    <tr>\n",
       "      <th>lCcjph5wdCzGfTUO6LPocg</th>\n",
       "      <td>-0.953691</td>\n",
       "      <td>0.970372</td>\n",
       "      <td>-0.580388</td>\n",
       "      <td>-0.976215</td>\n",
       "      <td>-0.981822</td>\n",
       "    </tr>\n",
       "    <tr>\n",
       "      <th>Vt1iSx253f6yL0_TaSx6gQ</th>\n",
       "      <td>-0.635447</td>\n",
       "      <td>-0.820344</td>\n",
       "      <td>0.219040</td>\n",
       "      <td>0.376843</td>\n",
       "      <td>0.309247</td>\n",
       "    </tr>\n",
       "    <tr>\n",
       "      <th>VJTBDu7fc20u277sZckJzg</th>\n",
       "      <td>-0.609941</td>\n",
       "      <td>0.727396</td>\n",
       "      <td>0.318200</td>\n",
       "      <td>0.169856</td>\n",
       "      <td>0.081966</td>\n",
       "    </tr>\n",
       "    <tr>\n",
       "      <th>pBEM4bDE7MJ6G4SKmnjfbg</th>\n",
       "      <td>0.570024</td>\n",
       "      <td>-0.631769</td>\n",
       "      <td>0.677414</td>\n",
       "      <td>-0.069840</td>\n",
       "      <td>-0.893941</td>\n",
       "    </tr>\n",
       "    <tr>\n",
       "      <th>3kvyAFaf_x9xRBjlKBaA-Q</th>\n",
       "      <td>0.657323</td>\n",
       "      <td>0.461637</td>\n",
       "      <td>-0.653262</td>\n",
       "      <td>0.380363</td>\n",
       "      <td>-0.762898</td>\n",
       "    </tr>\n",
       "    <tr>\n",
       "      <th>JIlybDRCddKZAJ2-Y8SKCg</th>\n",
       "      <td>-0.408101</td>\n",
       "      <td>0.811317</td>\n",
       "      <td>-0.520161</td>\n",
       "      <td>0.803291</td>\n",
       "      <td>-0.781917</td>\n",
       "    </tr>\n",
       "    <tr>\n",
       "      <th>7uhvxvEu5x3t_OJk-zp2sQ</th>\n",
       "      <td>0.298753</td>\n",
       "      <td>0.643934</td>\n",
       "      <td>0.048158</td>\n",
       "      <td>-0.235657</td>\n",
       "      <td>0.027563</td>\n",
       "    </tr>\n",
       "    <tr>\n",
       "      <th>bhosqo-Q1xp67iLqrd1Rbw</th>\n",
       "      <td>0.096002</td>\n",
       "      <td>0.541948</td>\n",
       "      <td>0.093903</td>\n",
       "      <td>-0.007726</td>\n",
       "      <td>-0.489739</td>\n",
       "    </tr>\n",
       "    <tr>\n",
       "      <th>0n3l_hKswZ3BJrRhSxOa1g</th>\n",
       "      <td>0.409989</td>\n",
       "      <td>-0.614331</td>\n",
       "      <td>-0.619415</td>\n",
       "      <td>0.274321</td>\n",
       "      <td>0.346965</td>\n",
       "    </tr>\n",
       "    <tr>\n",
       "      <th>ZEuTAZjWKctjQLbQLCEP5Q</th>\n",
       "      <td>0.139253</td>\n",
       "      <td>0.028698</td>\n",
       "      <td>0.705645</td>\n",
       "      <td>-0.050935</td>\n",
       "      <td>0.057246</td>\n",
       "    </tr>\n",
       "    <tr>\n",
       "      <th>HeH4qL9xS_XYnAQh6Yu8JQ</th>\n",
       "      <td>0.893711</td>\n",
       "      <td>0.627918</td>\n",
       "      <td>-0.810176</td>\n",
       "      <td>0.353558</td>\n",
       "      <td>-0.710848</td>\n",
       "    </tr>\n",
       "    <tr>\n",
       "      <th>U5zf1i_WzinhXLZH7X-N-Q</th>\n",
       "      <td>0.697502</td>\n",
       "      <td>0.620209</td>\n",
       "      <td>0.105116</td>\n",
       "      <td>0.195097</td>\n",
       "      <td>-0.283965</td>\n",
       "    </tr>\n",
       "    <tr>\n",
       "      <th>cEcTtJIc0h3rRuJWoTgcMg</th>\n",
       "      <td>0.500658</td>\n",
       "      <td>0.428115</td>\n",
       "      <td>0.049705</td>\n",
       "      <td>-0.390658</td>\n",
       "      <td>-0.014460</td>\n",
       "    </tr>\n",
       "    <tr>\n",
       "      <th>_5S7EhbqW5_YoxuPTrfnuQ</th>\n",
       "      <td>-0.355222</td>\n",
       "      <td>-0.233888</td>\n",
       "      <td>0.343589</td>\n",
       "      <td>-0.270354</td>\n",
       "      <td>-0.337804</td>\n",
       "    </tr>\n",
       "    <tr>\n",
       "      <th>aaJ-RaUdHyB4R3U4qNbRBA</th>\n",
       "      <td>-0.588819</td>\n",
       "      <td>-0.684956</td>\n",
       "      <td>-0.580287</td>\n",
       "      <td>-0.042744</td>\n",
       "      <td>0.209681</td>\n",
       "    </tr>\n",
       "    <tr>\n",
       "      <th>cPPYaBM07eTlkknpvVpW1Q</th>\n",
       "      <td>-0.018166</td>\n",
       "      <td>0.371389</td>\n",
       "      <td>0.064196</td>\n",
       "      <td>-0.908165</td>\n",
       "      <td>0.344018</td>\n",
       "    </tr>\n",
       "    <tr>\n",
       "      <th>duVuU_LzYwjdd9LNbCgnyw</th>\n",
       "      <td>-0.658508</td>\n",
       "      <td>0.163232</td>\n",
       "      <td>0.720749</td>\n",
       "      <td>-0.583652</td>\n",
       "      <td>-0.577390</td>\n",
       "    </tr>\n",
       "    <tr>\n",
       "      <th>M8kNekCc1vK-w84MSK79kw</th>\n",
       "      <td>0.761876</td>\n",
       "      <td>-0.272373</td>\n",
       "      <td>0.626595</td>\n",
       "      <td>0.206284</td>\n",
       "      <td>-0.041413</td>\n",
       "    </tr>\n",
       "    <tr>\n",
       "      <th>0NK0knbek2VGaMp01UkENw</th>\n",
       "      <td>-0.025416</td>\n",
       "      <td>-0.995142</td>\n",
       "      <td>0.011582</td>\n",
       "      <td>0.967173</td>\n",
       "      <td>-0.117407</td>\n",
       "    </tr>\n",
       "    <tr>\n",
       "      <th>0p405x2TRJCPYfHHt1sgTA</th>\n",
       "      <td>0.948208</td>\n",
       "      <td>-0.460002</td>\n",
       "      <td>-0.882779</td>\n",
       "      <td>-0.161689</td>\n",
       "      <td>-0.765343</td>\n",
       "    </tr>\n",
       "  </tbody>\n",
       "</table>\n",
       "<p>13589 rows × 5 columns</p>\n",
       "</div>"
      ],
      "text/plain": [
       "                               0         1         2         3         4\n",
       "ujmEBvifdJM6h6RLv4wQIg  0.245716 -0.999963  0.958518 -0.996415 -0.004232\n",
       "WTqjgwHlXbSFevF32_DJVw  0.637304 -0.794876 -0.613295 -0.997671  0.675887\n",
       "ikCg8xy5JIg_NGPx-MSIDA  0.902912  0.856310 -0.948628 -0.111182 -0.746762\n",
       "3fw2X5bZYeW9xCz_zGhOHg -0.734276 -0.999902  0.797500  0.541766  0.030535\n",
       "zvO-PJCpNk4fgAVUnExYAA -0.223762 -0.782820 -0.118088  0.958683 -0.634694\n",
       "b2jN2mm9Wf3RcrZCgfo1cg -0.911307 -0.496665  0.940446 -0.999844  0.997965\n",
       "oxwGyA17NL6c5t1Etg5WgQ -0.956273 -0.793331  0.168674  0.815644 -0.995229\n",
       "8mIrX_LrOnAqWsB5JrOojQ -1.000000  1.000000 -0.694195 -0.999999  0.999981\n",
       "FxLfqxdYPA6Z85PFKaqLrg  0.194422  0.627261 -0.602485  0.552737  0.970568\n",
       "AakkkTuGZA2KBodKi2_u8A -0.366006 -0.511513  0.989328  0.999454 -0.254088\n",
       "YvrylyuWgbP90RgMqZQVnQ -0.452206 -0.952003 -0.966037 -0.999862  0.328256\n",
       "NyLYY8q1-H3hfsTwuwLPCg  0.999999  0.987281 -0.999993 -0.999991 -0.999933\n",
       "cHdJXLlKNWixBXpDwEGb_A -0.999919 -0.999998 -0.501293 -0.217334  0.957553\n",
       "6lj2BJ4tJeu7db5asGHQ4w  0.999959  0.949334  0.870466 -0.999563  0.889889\n",
       "y-Iw6dZflNix4BdwIyTNGA  0.993158  0.286854 -0.999366  0.999987 -0.966192\n",
       "qx6WhZ42eDKmBchZDax4dQ -0.999997  0.999999  0.999998 -0.999992  0.999999\n",
       "Mem13A3C202RzT53npn4NA -0.999703 -0.999971  0.994528  0.999461  0.999998\n",
       "I4Nr-MVc26qWr08-S3Q1ow  0.733666 -0.986745  0.449270 -0.999997 -0.998365\n",
       "Sfc8Haz2Yri8Mo1L0E0TsA -0.486209  0.334513  0.988931 -0.614635 -0.130899\n",
       "FQ1wBQb3aNeRMThSQEV0Qg  0.999907  0.637268  0.980527  0.994552  0.998992\n",
       "hd5xm20tfSa70-6UqD9-bg  0.999980 -0.996084  0.999993 -0.664816  0.999997\n",
       "9nTF596jDvBBia2EXXiOOg -0.307216  0.839162 -0.559042  0.347400 -0.325854\n",
       "dm6sO_Y8JdKTE1ZM955yug  0.995398  0.999998  0.957606  0.999999  0.999999\n",
       "XTzKRvWciP_BZ9imk8mmPQ -0.999997 -0.997087 -0.999946 -0.999148 -0.999996\n",
       "CDpoJiqgM04wqQTZ6QkTqQ  0.999995 -0.999327 -0.995313  0.992953  0.998890\n",
       "3JxKzWquEbPC3yPIfoCiLw -0.012733 -0.978604 -0.868235 -0.961351  0.999922\n",
       "YSUcHqlKMPHHJ_cTrqtNrA  0.117742 -0.844622  0.639710 -0.054669 -0.884881\n",
       "N0apJkxIem2E8irTBRKnHw  0.344658  0.942647 -0.999814  0.794865  0.999998\n",
       "sMzNLdhJZGzYirIWt-fMAg -0.166723 -1.000000  0.481082 -0.981536  0.997021\n",
       "IMLrj2klosTFvPRLv56cng -0.998247  0.531739 -0.999357 -0.999999 -0.709312\n",
       "...                          ...       ...       ...       ...       ...\n",
       "_WsGlZnbXBdPcs0qM2Qm7w -0.647736  0.059701  0.591658 -0.399647  0.535942\n",
       "MGo5TXadUjDaPi5LYHArhA  0.447461  0.017320 -0.356627  0.642426 -0.246191\n",
       "um0brvgJQ_k0bfYQ4S6FpA -0.411288 -0.667122 -0.293027 -0.583814 -0.329604\n",
       "hJda5g5v_2rT3D-3mSf7cQ  0.546994  0.676979 -0.129855  0.415563 -0.731594\n",
       "0-7jRk54XXZgND3F3bo8sw  0.020070 -0.368546  0.807728 -0.909414  0.813717\n",
       "aIVCYE8frb2ELMQkvqykrw -0.833103 -0.002163 -0.974301  0.983104 -0.939913\n",
       "lbYQ5INAEa1yCjS3XUFN_A  0.919527 -0.322540  0.302122 -0.175771 -0.653477\n",
       "m3Tatgcyw8dUzts0wqpKMg  0.916441 -0.749790 -0.796657 -0.828571  0.755772\n",
       "n2kOsDur7tCLygSa87glJQ -0.051245 -0.429031  0.499620  0.826297 -0.701775\n",
       "aiSFOdB2rMeA5cdwwmAGtA -0.268925  0.447146  0.198781 -0.282231  0.149683\n",
       "lCcjph5wdCzGfTUO6LPocg -0.953691  0.970372 -0.580388 -0.976215 -0.981822\n",
       "Vt1iSx253f6yL0_TaSx6gQ -0.635447 -0.820344  0.219040  0.376843  0.309247\n",
       "VJTBDu7fc20u277sZckJzg -0.609941  0.727396  0.318200  0.169856  0.081966\n",
       "pBEM4bDE7MJ6G4SKmnjfbg  0.570024 -0.631769  0.677414 -0.069840 -0.893941\n",
       "3kvyAFaf_x9xRBjlKBaA-Q  0.657323  0.461637 -0.653262  0.380363 -0.762898\n",
       "JIlybDRCddKZAJ2-Y8SKCg -0.408101  0.811317 -0.520161  0.803291 -0.781917\n",
       "7uhvxvEu5x3t_OJk-zp2sQ  0.298753  0.643934  0.048158 -0.235657  0.027563\n",
       "bhosqo-Q1xp67iLqrd1Rbw  0.096002  0.541948  0.093903 -0.007726 -0.489739\n",
       "0n3l_hKswZ3BJrRhSxOa1g  0.409989 -0.614331 -0.619415  0.274321  0.346965\n",
       "ZEuTAZjWKctjQLbQLCEP5Q  0.139253  0.028698  0.705645 -0.050935  0.057246\n",
       "HeH4qL9xS_XYnAQh6Yu8JQ  0.893711  0.627918 -0.810176  0.353558 -0.710848\n",
       "U5zf1i_WzinhXLZH7X-N-Q  0.697502  0.620209  0.105116  0.195097 -0.283965\n",
       "cEcTtJIc0h3rRuJWoTgcMg  0.500658  0.428115  0.049705 -0.390658 -0.014460\n",
       "_5S7EhbqW5_YoxuPTrfnuQ -0.355222 -0.233888  0.343589 -0.270354 -0.337804\n",
       "aaJ-RaUdHyB4R3U4qNbRBA -0.588819 -0.684956 -0.580287 -0.042744  0.209681\n",
       "cPPYaBM07eTlkknpvVpW1Q -0.018166  0.371389  0.064196 -0.908165  0.344018\n",
       "duVuU_LzYwjdd9LNbCgnyw -0.658508  0.163232  0.720749 -0.583652 -0.577390\n",
       "M8kNekCc1vK-w84MSK79kw  0.761876 -0.272373  0.626595  0.206284 -0.041413\n",
       "0NK0knbek2VGaMp01UkENw -0.025416 -0.995142  0.011582  0.967173 -0.117407\n",
       "0p405x2TRJCPYfHHt1sgTA  0.948208 -0.460002 -0.882779 -0.161689 -0.765343\n",
       "\n",
       "[13589 rows x 5 columns]"
      ]
     },
     "execution_count": 58,
     "metadata": {},
     "output_type": "execute_result"
    }
   ],
   "source": [
    "bus_vec_df"
   ]
  },
  {
   "cell_type": "code",
   "execution_count": 38,
   "metadata": {},
   "outputs": [
    {
     "data": {
      "text/plain": [
       "'ri7itn7-CdpsaPxTToK5cQ'"
      ]
     },
     "execution_count": 38,
     "metadata": {},
     "output_type": "execute_result"
    }
   ],
   "source": [
    "uid = 115\n",
    "u_invmap[uid]"
   ]
  },
  {
   "cell_type": "code",
   "execution_count": 39,
   "metadata": {},
   "outputs": [],
   "source": [
    "bname = 'cHdJXLlKNWixBXpDwEGb_A'\n",
    "bid = bus_fmap[bname]"
   ]
  },
  {
   "cell_type": "code",
   "execution_count": 40,
   "metadata": {},
   "outputs": [
    {
     "data": {
      "text/plain": [
       "12"
      ]
     },
     "execution_count": 40,
     "metadata": {},
     "output_type": "execute_result"
    }
   ],
   "source": [
    "bid"
   ]
  },
  {
   "cell_type": "code",
   "execution_count": 41,
   "metadata": {},
   "outputs": [],
   "source": [
    "chipotle = bus_values[bid]"
   ]
  },
  {
   "cell_type": "code",
   "execution_count": 42,
   "metadata": {},
   "outputs": [
    {
     "data": {
      "text/plain": [
       "array([-0.9999191 , -0.9999983 , -0.501293  , -0.21733429,  0.9575534 ],\n",
       "      dtype=float32)"
      ]
     },
     "execution_count": 42,
     "metadata": {},
     "output_type": "execute_result"
    }
   ],
   "source": [
    "chipotle"
   ]
  },
  {
   "cell_type": "code",
   "execution_count": 43,
   "metadata": {},
   "outputs": [],
   "source": [
    "japaneselover = user_values[uid]"
   ]
  },
  {
   "cell_type": "code",
   "execution_count": 44,
   "metadata": {},
   "outputs": [
    {
     "data": {
      "text/plain": [
       "array([[ 0.24571638, -0.99996334,  0.95851815, -0.99641514, -0.00423152],\n",
       "       [ 0.63730407, -0.7948759 , -0.6132946 , -0.99767065,  0.67588747],\n",
       "       [ 0.9029117 ,  0.8563105 , -0.9486281 , -0.1111819 , -0.74676174],\n",
       "       ...,\n",
       "       [ 0.7618762 , -0.27237293,  0.6265953 ,  0.20628403, -0.04141279],\n",
       "       [-0.02541569, -0.99514157,  0.01158163,  0.9671731 , -0.11740661],\n",
       "       [ 0.94820774, -0.46000168, -0.8827787 , -0.16168922, -0.7653428 ]],\n",
       "      dtype=float32)"
      ]
     },
     "execution_count": 44,
     "metadata": {},
     "output_type": "execute_result"
    }
   ],
   "source": [
    "bus_values"
   ]
  },
  {
   "cell_type": "code",
   "execution_count": 45,
   "metadata": {},
   "outputs": [
    {
     "data": {
      "text/plain": [
       "array([12674,  3277,  5170, ...,   287,  4883,  3183])"
      ]
     },
     "execution_count": 45,
     "metadata": {},
     "output_type": "execute_result"
    }
   ],
   "source": [
    "np.square(bus_values - japaneselover[None,:]).sum(1).argsort()"
   ]
  },
  {
   "cell_type": "code",
   "execution_count": 46,
   "metadata": {},
   "outputs": [
    {
     "data": {
      "text/plain": [
       "array([  12, 1851, 3402, ...,   36, 4045, 4252])"
      ]
     },
     "execution_count": 46,
     "metadata": {},
     "output_type": "execute_result"
    }
   ],
   "source": [
    "np.square(bus_values - chipotle[None,:]).sum(1).argsort()"
   ]
  },
  {
   "cell_type": "code",
   "execution_count": 47,
   "metadata": {},
   "outputs": [],
   "source": [
    "def closest_businesses_to(business = None, user = None, df = None):\n",
    "    if business is not None:\n",
    "        target = bus_values[bus_fmap[business]]\n",
    "    if user is not None:\n",
    "        target = user_values[u_fmap[user]]\n",
    "    if df is None:\n",
    "        df = bus_values\n",
    "    best_restaurants = np.square(df - target[None,:]).sum(1).argsort()\n",
    "    return best_restaurants"
   ]
  },
  {
   "cell_type": "code",
   "execution_count": 48,
   "metadata": {},
   "outputs": [],
   "source": [
    "midtown_japanese_restaurants = bus_values[:30,:]"
   ]
  },
  {
   "cell_type": "code",
   "execution_count": 49,
   "metadata": {
    "scrolled": true
   },
   "outputs": [
    {
     "data": {
      "text/plain": [
       "array([  12, 1851, 3402, ...,   36, 4045, 4252])"
      ]
     },
     "execution_count": 49,
     "metadata": {},
     "output_type": "execute_result"
    }
   ],
   "source": [
    "closest_businesses_to(business = 'cHdJXLlKNWixBXpDwEGb_A')"
   ]
  },
  {
   "cell_type": "code",
   "execution_count": 50,
   "metadata": {},
   "outputs": [
    {
     "data": {
      "text/plain": [
       "array([12674,  3277,  5170, ...,   287,  4883,  3183])"
      ]
     },
     "execution_count": 50,
     "metadata": {},
     "output_type": "execute_result"
    }
   ],
   "source": [
    "closest_businesses_to(user = 'ri7itn7-CdpsaPxTToK5cQ')"
   ]
  },
  {
   "cell_type": "code",
   "execution_count": 51,
   "metadata": {},
   "outputs": [
    {
     "data": {
      "text/plain": [
       "array([17, 26, 18,  0, 11,  2, 29,  1, 21, 23, 10,  4, 28, 13, 25,  6, 14,\n",
       "        3,  9, 20,  5,  8, 12,  7, 15, 27, 19, 22, 24, 16])"
      ]
     },
     "execution_count": 51,
     "metadata": {},
     "output_type": "execute_result"
    }
   ],
   "source": [
    "closest_businesses_to(user = 'ri7itn7-CdpsaPxTToK5cQ', df = midtown_japanese_restaurants)"
   ]
  },
  {
   "cell_type": "code",
   "execution_count": 52,
   "metadata": {},
   "outputs": [],
   "source": [
    "# from surprise.model_selection import train_test_split\n"
   ]
  },
  {
   "cell_type": "code",
   "execution_count": 285,
   "metadata": {},
   "outputs": [],
   "source": [
    "# reader = Reader(rating_scale=(0, 5))\n",
    "# data = Dataset.load_from_df(df_review[[\n",
    "#     'business_id', 'stars', 'user_id']], reader)\n",
    "#data2 = Dataset.load_builtin('ml-100k')"
   ]
  },
  {
   "cell_type": "code",
   "execution_count": null,
   "metadata": {},
   "outputs": [],
   "source": [
    "# trainset = data.build_full_trainset()"
   ]
  },
  {
   "cell_type": "code",
   "execution_count": null,
   "metadata": {},
   "outputs": [],
   "source": [
    "#trainset, testset = train_test_split(data, test_size=.25)"
   ]
  },
  {
   "cell_type": "code",
   "execution_count": null,
   "metadata": {},
   "outputs": [],
   "source": [
    "# model = NMF(n_factors = 5, n_epochs = 2)"
   ]
  },
  {
   "cell_type": "code",
   "execution_count": null,
   "metadata": {},
   "outputs": [],
   "source": [
    "# modeltrained = model.fit(trainset)"
   ]
  },
  {
   "cell_type": "code",
   "execution_count": null,
   "metadata": {},
   "outputs": [],
   "source": [
    "# sim = modeltrained.compute_similarities()"
   ]
  },
  {
   "cell_type": "code",
   "execution_count": null,
   "metadata": {},
   "outputs": [],
   "source": [
    "# sim"
   ]
  },
  {
   "cell_type": "code",
   "execution_count": null,
   "metadata": {},
   "outputs": [],
   "source": [
    "# import tensorflow as tf"
   ]
  },
  {
   "cell_type": "code",
   "execution_count": null,
   "metadata": {},
   "outputs": [],
   "source": [
    "# 3"
   ]
  },
  {
   "cell_type": "code",
   "execution_count": null,
   "metadata": {},
   "outputs": [],
   "source": [
    "# ??modeltrained.compute_similarities"
   ]
  },
  {
   "cell_type": "code",
   "execution_count": null,
   "metadata": {},
   "outputs": [],
   "source": [
    "# ??NMF"
   ]
  },
  {
   "cell_type": "code",
   "execution_count": null,
   "metadata": {},
   "outputs": [],
   "source": [
    "# benchmark = []\n",
    "# # Iterate over all algorithms\n",
    "# for algorithm in [NMF()]:\n",
    "#     # Perform cross validation\n",
    "#     results = cross_validate(algorithm, data, measures=['RMSE'], cv=3, verbose=False)\n",
    "    \n",
    "#     # Get results & append algorithm name\n",
    "#     tmp = pd.DataFrame.from_dict(results).mean(axis=0)\n",
    "#     tmp = tmp.append(pd.Series([str(algorithm).split(' ')[0].split('.')[-1]], index=['Algorithm']))\n",
    "#     benchmark.append(tmp)\n",
    "    \n",
    "# pd.DataFrame(benchmark).set_index('Algorithm').sort_values('test_rmse')    "
   ]
  },
  {
   "cell_type": "code",
   "execution_count": null,
   "metadata": {},
   "outputs": [],
   "source": [
    "#df_review.fillna(df_review.mean(), inplace=True)"
   ]
  },
  {
   "cell_type": "code",
   "execution_count": null,
   "metadata": {},
   "outputs": [],
   "source": [
    "#print(df_review.dtypes)"
   ]
  },
  {
   "cell_type": "code",
   "execution_count": null,
   "metadata": {},
   "outputs": [],
   "source": []
  }
 ],
 "metadata": {
  "kernelspec": {
   "display_name": "Python 3",
   "language": "python",
   "name": "python3"
  },
  "language_info": {
   "codemirror_mode": {
    "name": "ipython",
    "version": 3
   },
   "file_extension": ".py",
   "mimetype": "text/x-python",
   "name": "python",
   "nbconvert_exporter": "python",
   "pygments_lexer": "ipython3",
   "version": "3.6.8"
  }
 },
 "nbformat": 4,
 "nbformat_minor": 2
}
