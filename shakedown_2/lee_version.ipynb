{
 "cells": [
  {
   "cell_type": "code",
   "execution_count": 338,
   "metadata": {},
   "outputs": [],
   "source": [
    "import time\n",
    "import json\n",
    "import re\n",
    "import os \n",
    "import tensorflow as tf\n",
    "import pandas as pd\n",
    "import numpy as np\n",
    "from itertools import compress\n",
    "import matplotlib.pyplot as plt\n"
   ]
  },
  {
   "cell_type": "code",
   "execution_count": 339,
   "metadata": {},
   "outputs": [],
   "source": [
    "def json_to_csv(directory, fileNames, createSample=False):\n",
    "    \"\"\"\n",
    "    json_to_csv: loops through specified JSON files and converts them to csv files.\n",
    "                 option to also create a sample csv, which uses np.random.seed 9001 to create a sample dataset with 10% of the observations\n",
    "    \n",
    "                 pandas has a read_json function, but returns a 'Trailing data error' when working with these specific files\n",
    "                 \n",
    "                 \n",
    "    Inputs: -directory of JSON files\n",
    "            -list of JSON filenames\n",
    "            -createSample flag\n",
    "            \n",
    "    \"\"\"\n",
    "    \n",
    "    start = time.time()\n",
    "\n",
    "    jsonData = []\n",
    "\n",
    "    for fileName in fileNames:\n",
    "        with open(directory + fileName,  encoding=\"utf8\") as file:\n",
    "            print('{0} opened'.format(fileName))\n",
    "            for line in file:\n",
    "                #I use an rstrip here because some of the files have trailing blank spaces\n",
    "                jsonData.append(json.loads(line.rstrip()))\n",
    "        \n",
    "        df = pd.DataFrame.from_dict(jsonData)\n",
    "        \n",
    "        csvFileName = fileName[:len(fileName)-5] + '.csv'\n",
    "        \n",
    "        df.to_csv(directory + csvFileName)\n",
    "        print('{0} created'.format(csvFileName))\n",
    "        \n",
    "        \n",
    "        if createSample:\n",
    "            np.random.seed(9001)\n",
    "            msk = np.random.rand(len(df)) <= 0.1\n",
    "            sample = df[msk]\n",
    "            \n",
    "            csvSampleFileName = fileName[:len(fileName)-5] + '_sample.csv'\n",
    "            \n",
    "            sample.to_csv(directory + csvSampleFileName)\n",
    "            print('{0} created'.format(csvSampleFileName))\n",
    "        \n",
    "    print('This function took {} minutes to run'.format((time.time()-start)/60))\n",
    "    "
   ]
  },
  {
   "cell_type": "code",
   "execution_count": 340,
   "metadata": {},
   "outputs": [],
   "source": [
    "# fileNameList = ['user.json',\n",
    "#                 'business.json', \n",
    "#                 'review.json']\n",
    "\n",
    "# json_to_csv('data/', fileNameList, createSample=True)"
   ]
  },
  {
   "cell_type": "code",
   "execution_count": 341,
   "metadata": {},
   "outputs": [],
   "source": [
    "# df_business = pd.read_json('data/business.json',lines=True)\n",
    "\n",
    "# df_business.dropna(inplace=True, subset = ['categories'], axis=0)\n",
    "\n",
    "# df_business.loc[df_business['categories'].str.contains('Restaurants')]\n",
    "\n",
    "# df_business['categories'].value_counts()"
   ]
  },
  {
   "cell_type": "code",
   "execution_count": 342,
   "metadata": {},
   "outputs": [],
   "source": [
    "#df_user = pd.read_csv('data/user.csv', nrows = 100)"
   ]
  },
  {
   "cell_type": "code",
   "execution_count": 297,
   "metadata": {},
   "outputs": [
    {
     "data": {
      "text/plain": [
       "['filtered_reviews.csv',\n",
       " '.DS_Store',\n",
       " 'business.json',\n",
       " 'review_sample.csv',\n",
       " 'business.csv',\n",
       " 'user.json',\n",
       " 'review.csv',\n",
       " 'user.csv',\n",
       " 'business_sample.csv',\n",
       " 'user_sample.csv',\n",
       " 'review.json',\n",
       " 'restaurants.csv']"
      ]
     },
     "execution_count": 297,
     "metadata": {},
     "output_type": "execute_result"
    }
   ],
   "source": [
    "os.listdir('data/')"
   ]
  },
  {
   "cell_type": "code",
   "execution_count": 298,
   "metadata": {},
   "outputs": [],
   "source": [
    "# df_review =  pd.read_csv('data/review.csv', usecols = ['business_id', 'user_id', 'stars'])\n",
    "\n",
    "\n",
    "\n",
    "# user_cnts = df_review['user_id'].value_counts()\n",
    "# top_users = user_cnts.loc[user_cnts>2].index\n",
    "# df_review = df_review.loc[df_review['user_id'].isin(top_users)]\n",
    "# df_review.to_csv('data/filtered_reviews.csv')"
   ]
  },
  {
   "cell_type": "code",
   "execution_count": 299,
   "metadata": {},
   "outputs": [],
   "source": [
    "# reading filterdreview \n",
    "\n",
    "df_review = pd.read_csv('data/filtered_reviews.csv', index_col=0)"
   ]
  },
  {
   "cell_type": "code",
   "execution_count": 300,
   "metadata": {},
   "outputs": [],
   "source": [
    "# df_review\n",
    "\n",
    "# df_review['business_id'].value_counts().clip(lower=0,upper=10).hist()\n",
    "\n",
    "# df_review['user_id'].value_counts().clip(lower=0,upper=10).hist()\n",
    "\n",
    "# df_review.head()"
   ]
  },
  {
   "cell_type": "code",
   "execution_count": 301,
   "metadata": {},
   "outputs": [],
   "source": [
    "# def create_matrix(df_review, n_users, n_items):\n",
    "#     matrix = np.zeros((n_users, n_items))\n",
    "    \n",
    "#     for line in df.interlupes():\n",
    "        \n",
    "#         matrix[line[1]-1, line[2]-1] = line [3]\n",
    "        \n",
    "#     return matrix\n"
   ]
  },
  {
   "cell_type": "code",
   "execution_count": 302,
   "metadata": {},
   "outputs": [],
   "source": [
    "# R_df = df_review.pivot(index = 'user_id', columns ='business_id', values = 'stars').fillna(0)\n",
    "# R_df.head()\n",
    "\n"
   ]
  },
  {
   "cell_type": "code",
   "execution_count": 303,
   "metadata": {},
   "outputs": [],
   "source": [
    "# from surprise import SVD\n",
    "# from surprise import Dataset\n",
    "# from surprise import NormalPredictor\n",
    "# from surprise import BaselineOnly\n",
    "# from surprise import KNNBasic\n",
    "# from surprise import Reader\n",
    "# from surprise.model_selection import cross_validate\n",
    "# from surprise import NMF\n"
   ]
  },
  {
   "cell_type": "code",
   "execution_count": 304,
   "metadata": {},
   "outputs": [],
   "source": [
    "def build_fmap_invmap(ser):\n",
    "    uni_ele = ser.unique()\n",
    "    fmap = {v:i for i, v in enumerate(uni_ele)}\n",
    "    invmap = {i:v for i, v in enumerate(uni_ele)}\n",
    "    return fmap, invmap"
   ]
  },
  {
   "cell_type": "code",
   "execution_count": 305,
   "metadata": {},
   "outputs": [
    {
     "data": {
      "text/plain": [
       "(5284463, 3)"
      ]
     },
     "execution_count": 305,
     "metadata": {},
     "output_type": "execute_result"
    }
   ],
   "source": [
    "df_review.shape"
   ]
  },
  {
   "cell_type": "code",
   "execution_count": 306,
   "metadata": {},
   "outputs": [],
   "source": [
    "df_review = df_review.head(100000)"
   ]
  },
  {
   "cell_type": "code",
   "execution_count": 307,
   "metadata": {},
   "outputs": [],
   "source": [
    "bus_fmap, bus_invmap = build_fmap_invmap(df_review['business_id'])\n",
    "u_fmap, u_invmap = build_fmap_invmap(df_review['user_id'])"
   ]
  },
  {
   "cell_type": "code",
   "execution_count": 308,
   "metadata": {},
   "outputs": [
    {
     "data": {
      "text/plain": [
       "('hG7b0MtEbXx5QzbzE6C_VA', 'hG7b0MtEbXx5QzbzE6C_VA')"
      ]
     },
     "execution_count": 308,
     "metadata": {},
     "output_type": "execute_result"
    }
   ],
   "source": [
    "u_invmap[\n",
    "    u_fmap[df_review['user_id'][0]]\n",
    "  ], df_review['user_id'][0]\n",
    "\n",
    "\n"
   ]
  },
  {
   "cell_type": "code",
   "execution_count": 309,
   "metadata": {},
   "outputs": [
    {
     "data": {
      "text/plain": [
       "('hd5xm20tfSa70-6UqD9-bg', 'ujmEBvifdJM6h6RLv4wQIg')"
      ]
     },
     "execution_count": 309,
     "metadata": {},
     "output_type": "execute_result"
    }
   ],
   "source": [
    "bus_invmap[bus_fmap[df_review['business_id'].iloc[20]]], df_review['business_id'][0]\n",
    "\n"
   ]
  },
  {
   "cell_type": "code",
   "execution_count": 310,
   "metadata": {},
   "outputs": [],
   "source": [
    "df_review['business_id'] = df_review['business_id'].map(bus_fmap)"
   ]
  },
  {
   "cell_type": "code",
   "execution_count": 311,
   "metadata": {},
   "outputs": [],
   "source": [
    "df_review['user_id'] = df_review['user_id'].map(u_fmap)"
   ]
  },
  {
   "cell_type": "code",
   "execution_count": 312,
   "metadata": {},
   "outputs": [
    {
     "data": {
      "text/html": [
       "<div>\n",
       "<style scoped>\n",
       "    .dataframe tbody tr th:only-of-type {\n",
       "        vertical-align: middle;\n",
       "    }\n",
       "\n",
       "    .dataframe tbody tr th {\n",
       "        vertical-align: top;\n",
       "    }\n",
       "\n",
       "    .dataframe thead th {\n",
       "        text-align: right;\n",
       "    }\n",
       "</style>\n",
       "<table border=\"1\" class=\"dataframe\">\n",
       "  <thead>\n",
       "    <tr style=\"text-align: right;\">\n",
       "      <th></th>\n",
       "      <th>business_id</th>\n",
       "      <th>stars</th>\n",
       "      <th>user_id</th>\n",
       "    </tr>\n",
       "  </thead>\n",
       "  <tbody>\n",
       "    <tr>\n",
       "      <th>0</th>\n",
       "      <td>0</td>\n",
       "      <td>1.0</td>\n",
       "      <td>0</td>\n",
       "    </tr>\n",
       "    <tr>\n",
       "      <th>2</th>\n",
       "      <td>1</td>\n",
       "      <td>5.0</td>\n",
       "      <td>1</td>\n",
       "    </tr>\n",
       "    <tr>\n",
       "      <th>3</th>\n",
       "      <td>2</td>\n",
       "      <td>5.0</td>\n",
       "      <td>2</td>\n",
       "    </tr>\n",
       "    <tr>\n",
       "      <th>6</th>\n",
       "      <td>3</td>\n",
       "      <td>3.0</td>\n",
       "      <td>3</td>\n",
       "    </tr>\n",
       "    <tr>\n",
       "      <th>7</th>\n",
       "      <td>4</td>\n",
       "      <td>1.0</td>\n",
       "      <td>4</td>\n",
       "    </tr>\n",
       "  </tbody>\n",
       "</table>\n",
       "</div>"
      ],
      "text/plain": [
       "   business_id  stars  user_id\n",
       "0            0    1.0        0\n",
       "2            1    5.0        1\n",
       "3            2    5.0        2\n",
       "6            3    3.0        3\n",
       "7            4    1.0        4"
      ]
     },
     "execution_count": 312,
     "metadata": {},
     "output_type": "execute_result"
    }
   ],
   "source": [
    "df_review.head()"
   ]
  },
  {
   "cell_type": "code",
   "execution_count": 317,
   "metadata": {},
   "outputs": [],
   "source": [
    "n_users, n_bus = df_review['user_id'].nunique(), df_review['business_id'].nunique()"
   ]
  },
  {
   "cell_type": "code",
   "execution_count": 318,
   "metadata": {},
   "outputs": [],
   "source": [
    "n_dim = 5"
   ]
  },
  {
   "cell_type": "code",
   "execution_count": 319,
   "metadata": {},
   "outputs": [],
   "source": [
    "user_vector_raw = tf.Variable(tf.random_uniform([n_users, n_dim], minval = -1., maxval = 1.))\n",
    "bus_vector_raw = tf.Variable(tf.random_uniform([n_bus, n_dim], minval = -1., maxval = 1.))"
   ]
  },
  {
   "cell_type": "code",
   "execution_count": 320,
   "metadata": {},
   "outputs": [],
   "source": [
    "user_vector = tf.tanh(user_vector_raw)\n",
    "bus_vector = tf.tanh(bus_vector_raw)"
   ]
  },
  {
   "cell_type": "code",
   "execution_count": 321,
   "metadata": {},
   "outputs": [
    {
     "data": {
      "text/plain": [
       "(TensorShape([Dimension(72254), Dimension(5)]),\n",
       " TensorShape([Dimension(13589), Dimension(5)]))"
      ]
     },
     "execution_count": 321,
     "metadata": {},
     "output_type": "execute_result"
    }
   ],
   "source": [
    "user_vector_raw.shape, bus_vector_raw.shape"
   ]
  },
  {
   "cell_type": "code",
   "execution_count": 322,
   "metadata": {},
   "outputs": [],
   "source": [
    "users = tf.placeholder(tf.int32, shape=(None))\n",
    "businesses = tf.placeholder(tf.int32, shape=(None))\n",
    "ratings = tf.placeholder(tf.float32, shape=(None))\n",
    "\n",
    "UserSampled = tf.nn.embedding_lookup(user_vector, users)\n",
    "BusinessSampled = tf.nn.embedding_lookup(bus_vector, businesses)\n",
    "UserSampled.set_shape([None, n_dim])\n",
    "BusinessSampled.set_shape([None, n_dim])\n",
    "\n",
    "# input tensors for products, users, ratings"
   ]
  },
  {
   "cell_type": "code",
   "execution_count": 323,
   "metadata": {},
   "outputs": [],
   "source": [
    "estimatedaffinitiesraw = tf.reduce_sum(UserSampled * BusinessSampled, 1)\n",
    "estimatedaffinities = tf.sigmoid(estimatedaffinitiesraw)*5"
   ]
  },
  {
   "cell_type": "code",
   "execution_count": 324,
   "metadata": {},
   "outputs": [],
   "source": [
    "loss = tf.reduce_sum(tf.square(estimatedaffinities - ratings))\n",
    "opt = tf.train.RMSPropOptimizer(learning_rate=.1).minimize(loss)"
   ]
  },
  {
   "cell_type": "code",
   "execution_count": 325,
   "metadata": {},
   "outputs": [],
   "source": [
    "sess = tf.Session()\n"
   ]
  },
  {
   "cell_type": "code",
   "execution_count": 326,
   "metadata": {},
   "outputs": [],
   "source": [
    "rows = np.random.choice(df_review.shape[0], 64)"
   ]
  },
  {
   "cell_type": "code",
   "execution_count": 327,
   "metadata": {},
   "outputs": [],
   "source": [
    "sess.run(tf.global_variables_initializer())"
   ]
  },
  {
   "cell_type": "code",
   "execution_count": 328,
   "metadata": {},
   "outputs": [
    {
     "name": "stdout",
     "output_type": "stream",
     "text": [
      "280.5542\n",
      "242.0506\n",
      "127.281586\n",
      "97.87049\n",
      "70.841095\n",
      "44.41521\n",
      "66.671135\n",
      "49.77986\n",
      "45.456406\n",
      "28.924908\n"
     ]
    }
   ],
   "source": [
    "for i in range(10000):\n",
    "    rows = np.random.choice(df_review.shape[0], 64)\n",
    "    dfrows = df_review.iloc[rows]\n",
    "    fd = {users:dfrows['user_id'].values,\n",
    "         businesses:dfrows['business_id'].values,\n",
    "         ratings:dfrows['stars'].values}\n",
    "    _, l2loss = sess.run([opt, loss], fd)\n",
    "    if i % 1000 == 0:\n",
    "        print(l2loss)"
   ]
  },
  {
   "cell_type": "code",
   "execution_count": 329,
   "metadata": {},
   "outputs": [],
   "source": [
    "user_values, bus_values = sess.run([user_vector, bus_vector])"
   ]
  },
  {
   "cell_type": "code",
   "execution_count": 330,
   "metadata": {},
   "outputs": [
    {
     "data": {
      "text/plain": [
       "'ri7itn7-CdpsaPxTToK5cQ'"
      ]
     },
     "execution_count": 330,
     "metadata": {},
     "output_type": "execute_result"
    }
   ],
   "source": [
    "uid = 115\n",
    "u_invmap[uid]"
   ]
  },
  {
   "cell_type": "code",
   "execution_count": 331,
   "metadata": {},
   "outputs": [],
   "source": [
    "bname = 'cHdJXLlKNWixBXpDwEGb_A'\n",
    "bid = bus_fmap[bname]"
   ]
  },
  {
   "cell_type": "code",
   "execution_count": 332,
   "metadata": {},
   "outputs": [
    {
     "data": {
      "text/plain": [
       "12"
      ]
     },
     "execution_count": 332,
     "metadata": {},
     "output_type": "execute_result"
    }
   ],
   "source": [
    "bid"
   ]
  },
  {
   "cell_type": "code",
   "execution_count": 333,
   "metadata": {},
   "outputs": [],
   "source": [
    "chipotle = bus_values[bid]"
   ]
  },
  {
   "cell_type": "code",
   "execution_count": 334,
   "metadata": {},
   "outputs": [
    {
     "data": {
      "text/plain": [
       "array([-0.9999995 , -0.7207982 , -0.9999928 ,  0.99999905,  0.9694086 ],\n",
       "      dtype=float32)"
      ]
     },
     "execution_count": 334,
     "metadata": {},
     "output_type": "execute_result"
    }
   ],
   "source": [
    "chipotle"
   ]
  },
  {
   "cell_type": "code",
   "execution_count": 335,
   "metadata": {},
   "outputs": [],
   "source": [
    "japaneselover = user_values[uid]"
   ]
  },
  {
   "cell_type": "code",
   "execution_count": 336,
   "metadata": {},
   "outputs": [
    {
     "data": {
      "text/plain": [
       "array([[-0.8646391 ,  0.99999917,  0.9999984 , -0.928239  , -0.9983322 ],\n",
       "       [-0.99998283,  0.98596376,  0.07949587, -0.99999475,  0.45583826],\n",
       "       [-0.9995487 ,  0.94259447, -0.9912963 , -0.9978772 ,  0.94698477],\n",
       "       ...,\n",
       "       [-0.26906186, -0.8860855 , -0.77044463, -0.9242717 ,  0.52560014],\n",
       "       [-0.9905625 , -0.9905412 , -0.99279475, -0.99459225,  0.99750453],\n",
       "       [ 0.6112084 , -0.6120856 ,  0.82910144,  0.54135585,  0.7058714 ]],\n",
       "      dtype=float32)"
      ]
     },
     "execution_count": 336,
     "metadata": {},
     "output_type": "execute_result"
    }
   ],
   "source": [
    "bus_values"
   ]
  },
  {
   "cell_type": "code",
   "execution_count": 337,
   "metadata": {},
   "outputs": [
    {
     "data": {
      "text/plain": [
       "array([ 8092, 10561,  3252, ...,  2516,  1902,   855])"
      ]
     },
     "execution_count": 337,
     "metadata": {},
     "output_type": "execute_result"
    }
   ],
   "source": [
    "np.square(bus_values - japaneselover[None,:]).sum(1).argsort()"
   ]
  },
  {
   "cell_type": "code",
   "execution_count": 276,
   "metadata": {},
   "outputs": [
    {
     "data": {
      "text/plain": [
       "array([   12, 11899,    91, ...,  1652,   663,  1805])"
      ]
     },
     "execution_count": 276,
     "metadata": {},
     "output_type": "execute_result"
    }
   ],
   "source": [
    "np.square(bus_values - chipotle[None,:]).sum(1).argsort()"
   ]
  },
  {
   "cell_type": "code",
   "execution_count": 277,
   "metadata": {},
   "outputs": [],
   "source": [
    "def closest_businesses_to(business = None, user = None, df = None):\n",
    "    if business is not None:\n",
    "        target = bus_values[bus_fmap[business]]\n",
    "    if user is not None:\n",
    "        target = user_values[u_fmap[user]]\n",
    "    if df is None:\n",
    "        df = bus_values\n",
    "    best_restaurants = np.square(df - target[None,:]).sum(1).argsort()\n",
    "    return best_restaurants"
   ]
  },
  {
   "cell_type": "code",
   "execution_count": 278,
   "metadata": {},
   "outputs": [],
   "source": [
    "midtown_japanese_restaurants = bus_values[:30,:]"
   ]
  },
  {
   "cell_type": "code",
   "execution_count": 279,
   "metadata": {
    "scrolled": true
   },
   "outputs": [
    {
     "data": {
      "text/plain": [
       "array([   12, 11899,    91, ...,  1652,   663,  1805])"
      ]
     },
     "execution_count": 279,
     "metadata": {},
     "output_type": "execute_result"
    }
   ],
   "source": [
    "closest_businesses_to(business = 'cHdJXLlKNWixBXpDwEGb_A')"
   ]
  },
  {
   "cell_type": "code",
   "execution_count": 280,
   "metadata": {},
   "outputs": [
    {
     "data": {
      "text/plain": [
       "array([ 9872,   523, 11100, ...,  2571,  1882,  1671])"
      ]
     },
     "execution_count": 280,
     "metadata": {},
     "output_type": "execute_result"
    }
   ],
   "source": [
    "closest_businesses_to(user = 'ri7itn7-CdpsaPxTToK5cQ')"
   ]
  },
  {
   "cell_type": "code",
   "execution_count": 281,
   "metadata": {},
   "outputs": [
    {
     "data": {
      "text/plain": [
       "array([ 4, 18,  3,  9, 21, 26, 13, 11, 24, 27, 12,  8, 22, 10, 28,  6,  5,\n",
       "       15, 16,  1, 25,  7, 17,  0,  2, 23, 14, 19, 29, 20])"
      ]
     },
     "execution_count": 281,
     "metadata": {},
     "output_type": "execute_result"
    }
   ],
   "source": [
    "closest_businesses_to(user = 'ri7itn7-CdpsaPxTToK5cQ', df = midtown_japanese_restaurants)"
   ]
  },
  {
   "cell_type": "code",
   "execution_count": 284,
   "metadata": {},
   "outputs": [],
   "source": [
    "# from surprise.model_selection import train_test_split\n"
   ]
  },
  {
   "cell_type": "code",
   "execution_count": 285,
   "metadata": {},
   "outputs": [],
   "source": [
    "# reader = Reader(rating_scale=(0, 5))\n",
    "# data = Dataset.load_from_df(df_review[[\n",
    "#     'business_id', 'stars', 'user_id']], reader)\n",
    "#data2 = Dataset.load_builtin('ml-100k')"
   ]
  },
  {
   "cell_type": "code",
   "execution_count": null,
   "metadata": {},
   "outputs": [],
   "source": [
    "# trainset = data.build_full_trainset()"
   ]
  },
  {
   "cell_type": "code",
   "execution_count": null,
   "metadata": {},
   "outputs": [],
   "source": [
    "#trainset, testset = train_test_split(data, test_size=.25)"
   ]
  },
  {
   "cell_type": "code",
   "execution_count": null,
   "metadata": {},
   "outputs": [],
   "source": [
    "# model = NMF(n_factors = 5, n_epochs = 2)"
   ]
  },
  {
   "cell_type": "code",
   "execution_count": null,
   "metadata": {},
   "outputs": [],
   "source": [
    "# modeltrained = model.fit(trainset)"
   ]
  },
  {
   "cell_type": "code",
   "execution_count": null,
   "metadata": {},
   "outputs": [],
   "source": [
    "# sim = modeltrained.compute_similarities()"
   ]
  },
  {
   "cell_type": "code",
   "execution_count": null,
   "metadata": {},
   "outputs": [],
   "source": [
    "# sim"
   ]
  },
  {
   "cell_type": "code",
   "execution_count": null,
   "metadata": {},
   "outputs": [],
   "source": [
    "# import tensorflow as tf"
   ]
  },
  {
   "cell_type": "code",
   "execution_count": null,
   "metadata": {},
   "outputs": [],
   "source": [
    "# 3"
   ]
  },
  {
   "cell_type": "code",
   "execution_count": null,
   "metadata": {},
   "outputs": [],
   "source": [
    "# ??modeltrained.compute_similarities"
   ]
  },
  {
   "cell_type": "code",
   "execution_count": null,
   "metadata": {},
   "outputs": [],
   "source": [
    "# ??NMF"
   ]
  },
  {
   "cell_type": "code",
   "execution_count": null,
   "metadata": {},
   "outputs": [],
   "source": [
    "# benchmark = []\n",
    "# # Iterate over all algorithms\n",
    "# for algorithm in [NMF()]:\n",
    "#     # Perform cross validation\n",
    "#     results = cross_validate(algorithm, data, measures=['RMSE'], cv=3, verbose=False)\n",
    "    \n",
    "#     # Get results & append algorithm name\n",
    "#     tmp = pd.DataFrame.from_dict(results).mean(axis=0)\n",
    "#     tmp = tmp.append(pd.Series([str(algorithm).split(' ')[0].split('.')[-1]], index=['Algorithm']))\n",
    "#     benchmark.append(tmp)\n",
    "    \n",
    "# pd.DataFrame(benchmark).set_index('Algorithm').sort_values('test_rmse')    "
   ]
  },
  {
   "cell_type": "code",
   "execution_count": null,
   "metadata": {},
   "outputs": [],
   "source": [
    "#df_review.fillna(df_review.mean(), inplace=True)"
   ]
  },
  {
   "cell_type": "code",
   "execution_count": null,
   "metadata": {},
   "outputs": [],
   "source": [
    "#print(df_review.dtypes)"
   ]
  },
  {
   "cell_type": "code",
   "execution_count": null,
   "metadata": {},
   "outputs": [],
   "source": []
  }
 ],
 "metadata": {
  "kernelspec": {
   "display_name": "Python 3",
   "language": "python",
   "name": "python3"
  },
  "language_info": {
   "codemirror_mode": {
    "name": "ipython",
    "version": 3
   },
   "file_extension": ".py",
   "mimetype": "text/x-python",
   "name": "python",
   "nbconvert_exporter": "python",
   "pygments_lexer": "ipython3",
   "version": "3.6.8"
  }
 },
 "nbformat": 4,
 "nbformat_minor": 2
}
